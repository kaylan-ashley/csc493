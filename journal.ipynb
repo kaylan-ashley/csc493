{
 "cells": [
  {
   "cell_type": "markdown",
   "metadata": {},
   "source": [
    "## January 17, 2019 ##\n",
    "\n",
    "According to Beck, traditional game theory says little about games of complete information like Hex. Trying to find an optimal strategy using backtracking is impractical due to \"computational chaos\" i.e. the exponential growth of the game tree. An alternative approach is the fake probabilistic method, which involves using randomization and then applying potential functions (derandomizing.) This approach is global and therefore useful for games that cannot be decomposed into smaller sub-games. Hex, chess, and tic-tac-toe fall into this category.\n",
    "\n",
    "A \"Weak Win\" happens when a player achieves a winning configuration, but not necessarily first. A \"Strong Draw\" (and possibly an outright loss) happens when a player fails to achieve a Weak Win. Using probabilistic analysis on a randomized game (a game in which both players play randomly) can lead to an optimal Weak Win/Strong Draw strategy, hence the utility of the fake probabilistic method. This method works best on large inputs.\n",
    "\n",
    "A hypergraph is a graph in which each edge can connect any number of vertices. Hex is played on an arbitrarily large hypergraph in which the vertices represent cells on the board and edges represent winning game states. I'm going to need some clarification on this point. Does an edge represent all game states that include a particular winning path?\n",
    "\n",
    "Achievement and Avoidance Numbers describe the threshold between a Weak Win and a Strong Draw. This is also called the game theoretic breaking point. For Clique, the Achievement Number is the largest clique size a maker can build and the Avoidance Number is the smallest clique size a forcer can force a maker to build. How does this translate to Hex? \n",
    "\n",
    "The central idea of this section seems to be that players can force games that require global analysis to decompose into smaller, composite games. Understanding this process is one strategy for dealing with computational chaos.\n",
    "\n",
    "Chapter 10 presents Conway's Solitaire Army proof and then introduces and proves the Erdos-Selfridge Theorem. The strategy used in the proof looks similar to the strategy we applied in the Hex program. What Erdos-Selfridge says is that the Achievement Number is always less than or equal to the Majority Play Number (the number obtained in the first part of the fake probabilistic method.) \n",
    "\n",
    "Miscellaneous questions:\n",
    "What are \"Ramseyish\" games?\n",
    "How do you visualize n^d torus tic-tac-toe?\n",
    "\n",
    "References: \n",
    "J. Beck, *Combinatorial Games: Tic-Tac-Toe Theory,* New York: Cambridge University Press. 2008."
   ]
  },
  {
   "cell_type": "markdown",
   "metadata": {},
   "source": [
    "## January 22, 2019 ##\n",
    "\n",
    "This week I worked through Beck's proof of the Erd&#337;s-Selfridge Theorem. \n",
    "\n",
    "First, some definitions. An $n$-uniform hypergraph is a hypergraph in which each edge connects $n$ nodes. In other words, it's a collection of sets of size $n$. The magnitude of $\\mathcal{F}$ is the number of nodes in $\\mathcal{F}$ and the maximum degree of $\\mathcal{F}$ is the greatest number of sets (edges) that any one node belongs to. \n",
    "\n",
    "We require that $|\\mathcal{F}| + MaxDeg(\\mathcal{F}) < 2^n$. So it looks like we need the nodes to be fairly evenly distributed among the edges, with no one node belonging to too many edges. This makes sense; the more edges a node belongs to, the more strategically valuable it is. If the first player chooses a valuable-enough node in an unbalanced graph they could force a win.\n",
    "\n",
    "With this in mind, we want to show that the second player can force a Strong Draw. The first part of the proof describes the potential function we implemented in the Hex program, only this time we're looking at the game from the second player's perspective. In the context of Hex, a \"winning set\" is a winning path for the first player. \"Dead sets\" are winning paths containing at least one cell that is already occupied by the second player. The sets we need to worry about are the \"survivors.\" These are the remaining potential win states for the first player.\n",
    "\n",
    "We define a function that describes the sum total \"danger\" of the current game state. This is exactly the function we used in our implementation. The second player chooses their next move to minimize the value of this function, meaning they choose the move that \"kills\" the most winning sets. Then, because of the way we defined the potential function, any move the first player makes doubles the \"danger\" of the remaining sets it belongs to. The key idea is that because of the strategy used by the second player, the first player cannot add back more \"danger\" than what was removed in the previous step. So the function is monotonically non-increasing.\n",
    "\n",
    "For the first player to win, they must fully occupy a winning set. This would cause the total \"danger\" to be greater than or equal to 1. But we have that $|\\mathcal{F}| + MaxDeg(\\mathcal{F}) < 2^n$ and therefore $(|\\mathcal{F}| + MaxDeg(\\mathcal{F}))2^{-n} < 1$. But the term on the left side of this inequality must be greater than or equal to the \"danger\" of the starting state. So the danger of the starting state is less than 1. Combined with the fact that the function is monotonically non-increasing, this means that the first player cannot achieve such a state. Hence, the second player can force a Strong Draw.\n",
    "\n",
    "References: \n",
    "J. Beck, *Combinatorial Games: Tic-Tac-Toe Theory,* New York: Cambridge University Press. 2008."
   ]
  },
  {
   "cell_type": "markdown",
   "metadata": {},
   "source": [
    "## January 29, 2019 ##\n",
    "\n",
    "Apologies for posting this late. I was trying to understand page 300 of the Erd&#337;s-Selfridge paper in preparation for a presentation, but I couldn't figure out how they derived the $k > n\\ log\\ n$ bound for guaranteeing a second-player draw. I was trawling the internet for clues and found an amazing paper by a guy named Robert Gammill from the Rand Corporation. It was published in 1974, around the time the Erd&#337;s-Selfridge paper was published. In it, he examines how the Erd&#337;s-Selfridge theorem applies to tic-tac-toe. He uses the theorem to compute more precise bounds for forced-draw grames. The nice part is that it's quite straightforward to see how he derived them. Unfortunately, this hasn't brought me any closer to understanding the bound from the Erd&#337;s-Selfridge paper. \n",
    "\n",
    "The rest of the paper is devoted to implementing Qubic, the $4^3$ version of tic-tac-toe. It's a fun read. It sounds like they had a great time testing it.\n",
    "\n",
    "References: \n",
    "J. Gammill. \"An Examination of TIC-TAC-TOE like games,\" National Computer Conference, 1974. https://www.computer.org/csdl/proceedings/afips/1974/5082/00/50820349.pdf"
   ]
  },
  {
   "cell_type": "markdown",
   "metadata": {},
   "source": [
    "## February 5, 2019 ##\n",
    "\n",
    "This week I implemented a simple $4^2$ tic-tac-toe game that provides the second player with the information they need to play the potential strategy. I used an object-oriented design for readability and flexibility. If I were to keep developing it, there are a few things I would change. I would write a function to compute the winning paths instead of hardcoding them, I would compute Erdős-Selfridge potentials for both players, and I would make the input validation more robust. Also, since time was limited I didn't prioritize the the user interface. It could definitely be improved.\n",
    "\n",
    "Note: Originally the code for this tic-tac-toe game was posted here. Since I have updated and expanded the script, I have moved it to a separate file located in this directory called tic-tac-toe.py."
   ]
  },
  {
   "cell_type": "markdown",
   "metadata": {},
   "source": [
    "## February 11, 2019 ##\n",
    "\n",
    "Continuing my work from last week, I generalized the grid size of the tic-tac-toe game and improved its user interface. \n",
    "\n",
    "My main job this week was to translate some Polygon (i.e. Hex) puzzles from Ryan Hayward's book into a format my program could understand. The goal was to compute their Erdős-Selfridge potentials to see if they could be solved using the potential strategy. Before we get to the results, there are a few things I want to mention. These puzzles have it as Blue's turn to play, so the program computes the optimal next move for the Blue player. The Erdős-Selfridge potential that is displayed is the remaining \"danger\" posed by the Red player after Blue selects this optimal move. \n",
    "\n",
    "To avoid entering each puzzle manually, I wrote a separate script called \"polygon_puzzles.py\" that stores the puzzle configurations and does the work of setting up each puzzle. It must be called with an integer argument that gives the number of a puzzle. There is an optional argument \"--finish\" that plays through to the end of the game, with Blue playing the potential strategy and Red playing random moves.\n",
    "\n",
    "Of the first 17 puzzles, puzzle \\#1 is computationally infeasible, puzzles \\#4 and \\#6 have Erdős-Selfridge potentials less than one, and puzzle \\#9's potential is exactly equal to one. The rest of the puzzles have potentials greater than one.\n",
    "\n",
    "Below is our result for puzzle \\#4:"
   ]
  },
  {
   "cell_type": "code",
   "execution_count": 1,
   "metadata": {},
   "outputs": [
    {
     "name": "stdout",
     "output_type": "stream",
     "text": [
      "\n",
      "     / \\ / \\ / \\ \n",
      " \u001b[34m\u001b[1m2\u001b[0m  | \u001b[34m\u001b[1mb\u001b[0m |   |   | \n",
      "     \\ / \\ / \\ / \\\n",
      "   \u001b[34m\u001b[1m1\u001b[0m  | \u001b[0;31m\u001b[1mr\u001b[0m |   |   | \n",
      "       \\ / \\ / \\ / \\\n",
      "     \u001b[34m\u001b[1m0\u001b[0m  |   | \u001b[0;31m\u001b[1mr\u001b[0m |   | \n",
      "         \\ / \\ / \\ / \n",
      "            \u001b[0;31m\u001b[1m0   \u001b[0m\u001b[0;31m\u001b[1m1   \u001b[0m\u001b[0;31m\u001b[1m2   \u001b[0m\n",
      "\n",
      "Optimal next move: (1, 1)\n",
      "Erdos-Selfridge potential = 0.625\n"
     ]
    }
   ],
   "source": [
    "%run polygon_puzzles 4"
   ]
  },
  {
   "attachments": {},
   "cell_type": "markdown",
   "metadata": {},
   "source": [
    "This agrees with the solution given in Hayward's book:\n",
    "\n",
    "![polygon_puzzle_4_solution.png](images/polygon_puzzle_4_solution.png)\n",
    "\n",
    "Each puzzle was intended to have a unique solution. What's interesting about the next puzzle, \\#6, is that our solution doesn't agree with Hayward's. "
   ]
  },
  {
   "cell_type": "code",
   "execution_count": 2,
   "metadata": {},
   "outputs": [
    {
     "name": "stdout",
     "output_type": "stream",
     "text": [
      "\n",
      "     / \\ / \\ / \\ / \\ \n",
      " \u001b[34m\u001b[1m3\u001b[0m  |   |   |   | \u001b[0;31m\u001b[1mr\u001b[0m | \n",
      "     \\ / \\ / \\ / \\ / \\\n",
      "   \u001b[34m\u001b[1m2\u001b[0m  |   |   | \u001b[34m\u001b[1mb\u001b[0m |   | \n",
      "       \\ / \\ / \\ / \\ / \\\n",
      "     \u001b[34m\u001b[1m1\u001b[0m  |   |   |   |   | \n",
      "         \\ / \\ / \\ / \\ / \\\n",
      "       \u001b[34m\u001b[1m0\u001b[0m  | \u001b[0;31m\u001b[1mr\u001b[0m |   |   |   | \n",
      "           \\ / \\ / \\ / \\ / \n",
      "              \u001b[0;31m\u001b[1m0   \u001b[0m\u001b[0;31m\u001b[1m1   \u001b[0m\u001b[0;31m\u001b[1m2   \u001b[0m\u001b[0;31m\u001b[1m3   \u001b[0m\n",
      "\n",
      "Optimal next move: (1, 2)\n",
      "Erdos-Selfridge potential = 0.984375\n"
     ]
    }
   ],
   "source": [
    "%run polygon_puzzles 6"
   ]
  },
  {
   "attachments": {},
   "cell_type": "markdown",
   "metadata": {},
   "source": [
    "![polygon_puzzle_6_solution.png](images/polygon_puzzle_6_solution.png)\n",
    "\n",
    "Finally, the potential strategy fails (barely) to find a winning move in puzzle \\#9:"
   ]
  },
  {
   "cell_type": "code",
   "execution_count": 3,
   "metadata": {},
   "outputs": [
    {
     "name": "stdout",
     "output_type": "stream",
     "text": [
      "\n",
      "     / \\ / \\ / \\ / \\ \n",
      " \u001b[34m\u001b[1m3\u001b[0m  | \u001b[0;31m\u001b[1mr\u001b[0m |   |   |   | \n",
      "     \\ / \\ / \\ / \\ / \\\n",
      "   \u001b[34m\u001b[1m2\u001b[0m  |   |   |   | \u001b[0;31m\u001b[1mr\u001b[0m | \n",
      "       \\ / \\ / \\ / \\ / \\\n",
      "     \u001b[34m\u001b[1m1\u001b[0m  |   |   |   | \u001b[34m\u001b[1mb\u001b[0m | \n",
      "         \\ / \\ / \\ / \\ / \\\n",
      "       \u001b[34m\u001b[1m0\u001b[0m  | \u001b[0;31m\u001b[1mr\u001b[0m | \u001b[34m\u001b[1mb\u001b[0m |   |   | \n",
      "           \\ / \\ / \\ / \\ / \n",
      "              \u001b[0;31m\u001b[1m0   \u001b[0m\u001b[0;31m\u001b[1m1   \u001b[0m\u001b[0;31m\u001b[1m2   \u001b[0m\u001b[0;31m\u001b[1m3   \u001b[0m\n",
      "\n",
      "Optimal next move: (1, 1)\n",
      "Erdos-Selfridge potential = 1.0\n"
     ]
    }
   ],
   "source": [
    "%run polygon_puzzles 9"
   ]
  },
  {
   "attachments": {},
   "cell_type": "markdown",
   "metadata": {},
   "source": [
    "![polygon_puzzle_9_solution.png](images/polygon_puzzle_9_solution.png)"
   ]
  },
  {
   "cell_type": "code",
   "execution_count": null,
   "metadata": {},
   "outputs": [],
   "source": []
  }
 ],
 "metadata": {
  "kernelspec": {
   "display_name": "Python 3",
   "language": "python",
   "name": "python3"
  },
  "language_info": {
   "codemirror_mode": {
    "name": "ipython",
    "version": 3
   },
   "file_extension": ".py",
   "mimetype": "text/x-python",
   "name": "python",
   "nbconvert_exporter": "python",
   "pygments_lexer": "ipython3",
   "version": "3.6.7"
  }
 },
 "nbformat": 4,
 "nbformat_minor": 2
}
