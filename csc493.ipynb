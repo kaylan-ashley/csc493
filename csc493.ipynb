{
 "cells": [
  {
   "cell_type": "markdown",
   "metadata": {},
   "source": [
    "## January 17, 2018 ##\n",
    "\n",
    "According to Beck, traditional game theory says little about games of complete information like Hex. Trying to find an optimal strategy using backtracking is impractical due to \"computational chaos\" i.e. the exponential growth of the game tree. An alternative approach is the fake probabilistic method, which involves using randomization and then applying potential functions (derandomizing.) This approach is global and therefore useful for games that cannot be decomposed into smaller sub-games. Hex, chess, and tic-tac-toe fall into this category.\n",
    "\n",
    "A \"Weak Win\" happens when a player achieves a winning configuration, but not necessarily first. A \"Strong Draw\" (and possibly an outright loss) happens when a player fails to achieve a Weak Win. Using probabilistic analysis on a randomized game (a game in which both players play randomly) can lead to an optimal Weak Win/Strong Draw strategy, hence the utility of the fake probabilistic method. This method works best on large inputs.\n",
    "\n",
    "A hypergraph is a graph in which each edge can connect any number of vertices. Hex is played on an arbitrarily large hypergraph in which the vertices represent cells on the board and edges represent winning game states. I'm going to need some clarification on this point. Does an edge represent all game states that include a particular winning path?\n",
    "\n",
    "Achievement and Avoidance Numbers describe the threshold between a Weak Win and a Strong Draw. This is also called the game theoretic breaking point. For Clique, the Achievement Number is the largest clique size a maker can build and the Avoidance Number is the smallest clique size a forcer can force a maker to build. How does this translate to Hex? \n",
    "\n",
    "The central idea of this section seems to be that players can force games that require global analysis to decompose into smaller, composite games. Understanding this process is one strategy for dealing with computational chaos.\n",
    "\n",
    "Chapter 10 presents Conway's Solitaire Army proof and then introduces and proves the Erdos-Selfridge Theorem. The strategy used in the proof looks similar to the strategy we applied in the Hex program. What Erdos-Selfridge says is that the Achievement Number is always less than or equal to the Majority Play Number (the number obtained in the first part of the fake probabilistic method.) \n",
    "\n",
    "Miscellaneous questions:\n",
    "What are \"Ramseyish\" games?\n",
    "How do you visualize $n^d$ torus tic-tac-toe?\n",
    "\n",
    "References: \n",
    "J. Beck, *Combinatorial Games: Tic-Tac-Toe Theory.* New York: Cambridge University Press. 2008."
   ]
  },
  {
   "cell_type": "code",
   "execution_count": null,
   "metadata": {},
   "outputs": [],
   "source": []
  }
 ],
 "metadata": {
  "kernelspec": {
   "display_name": "Python 3",
   "language": "python",
   "name": "python3"
  },
  "language_info": {
   "codemirror_mode": {
    "name": "ipython",
    "version": 3
   },
   "file_extension": ".py",
   "mimetype": "text/x-python",
   "name": "python",
   "nbconvert_exporter": "python",
   "pygments_lexer": "ipython3",
   "version": "3.6.5"
  }
 },
 "nbformat": 4,
 "nbformat_minor": 2
}
